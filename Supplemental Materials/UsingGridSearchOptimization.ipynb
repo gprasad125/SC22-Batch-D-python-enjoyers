{
 "cells": [
  {
   "cell_type": "code",
   "execution_count": 38,
   "metadata": {
    "collapsed": false
   },
   "outputs": [
   ],
   "source": [
    "import pandas as pd\n",
    "import numpy as np\n",
    "\n",
    "import warnings\n",
    "warnings.filterwarnings(\"ignore\")"
   ]
  },
  {
   "cell_type": "code",
   "execution_count": 39,
   "metadata": {
    "collapsed": false,
    "scrolled": true
   },
   "outputs": [
    {
     "data": {
      "text/html": [
       "<div>\n",
       "<style scoped>\n",
       "    .dataframe tbody tr th:only-of-type {\n",
       "        vertical-align: middle;\n",
       "    }\n",
       "\n",
       "    .dataframe tbody tr th {\n",
       "        vertical-align: top;\n",
       "    }\n",
       "\n",
       "    .dataframe thead th {\n",
       "        text-align: right;\n",
       "    }\n",
       "</style>\n",
       "<table border=\"1\" class=\"dataframe\">\n",
       "  <thead>\n",
       "    <tr style=\"text-align: right;\">\n",
       "      <th></th>\n",
       "      <th>studyName</th>\n",
       "      <th>Sample Number</th>\n",
       "      <th>Species</th>\n",
       "      <th>Region</th>\n",
       "      <th>Island</th>\n",
       "      <th>Stage</th>\n",
       "      <th>Individual ID</th>\n",
       "      <th>Clutch Completion</th>\n",
       "      <th>Date Egg</th>\n",
       "      <th>Culmen Length (mm)</th>\n",
       "      <th>Culmen Depth (mm)</th>\n",
       "      <th>Flipper Length (mm)</th>\n",
       "      <th>Body Mass (g)</th>\n",
       "      <th>Sex</th>\n",
       "      <th>Delta 15 N (o/oo)</th>\n",
       "      <th>Delta 13 C (o/oo)</th>\n",
       "      <th>Comments</th>\n",
       "    </tr>\n",
       "  </thead>\n",
       "  <tbody>\n",
       "    <tr>\n",
       "      <th>0</th>\n",
       "      <td>PAL0708</td>\n",
       "      <td>7</td>\n",
       "      <td>Adelie Penguin (Pygoscelis adeliae)</td>\n",
       "      <td>Anvers</td>\n",
       "      <td>Torgersen</td>\n",
       "      <td>Adult, 1 Egg Stage</td>\n",
       "      <td>N4A1</td>\n",
       "      <td>No</td>\n",
       "      <td>2007-11-15</td>\n",
       "      <td>38.9</td>\n",
       "      <td>17.8</td>\n",
       "      <td>181.0</td>\n",
       "      <td>3625.0</td>\n",
       "      <td>FEMALE</td>\n",
       "      <td>9.18718</td>\n",
       "      <td>-25.21799</td>\n",
       "      <td>Nest never observed with full clutch.</td>\n",
       "    </tr>\n",
       "    <tr>\n",
       "      <th>1</th>\n",
       "      <td>PAL0708</td>\n",
       "      <td>8</td>\n",
       "      <td>Adelie Penguin (Pygoscelis adeliae)</td>\n",
       "      <td>Anvers</td>\n",
       "      <td>Torgersen</td>\n",
       "      <td>Adult, 1 Egg Stage</td>\n",
       "      <td>N4A2</td>\n",
       "      <td>No</td>\n",
       "      <td>2007-11-15</td>\n",
       "      <td>39.2</td>\n",
       "      <td>19.6</td>\n",
       "      <td>195.0</td>\n",
       "      <td>4675.0</td>\n",
       "      <td>MALE</td>\n",
       "      <td>9.46060</td>\n",
       "      <td>-24.89958</td>\n",
       "      <td>Nest never observed with full clutch.</td>\n",
       "    </tr>\n",
       "    <tr>\n",
       "      <th>2</th>\n",
       "      <td>PAL0708</td>\n",
       "      <td>29</td>\n",
       "      <td>Adelie Penguin (Pygoscelis adeliae)</td>\n",
       "      <td>Anvers</td>\n",
       "      <td>Biscoe</td>\n",
       "      <td>Adult, 1 Egg Stage</td>\n",
       "      <td>N18A1</td>\n",
       "      <td>No</td>\n",
       "      <td>2007-11-10</td>\n",
       "      <td>37.9</td>\n",
       "      <td>18.6</td>\n",
       "      <td>172.0</td>\n",
       "      <td>3150.0</td>\n",
       "      <td>FEMALE</td>\n",
       "      <td>8.38404</td>\n",
       "      <td>-25.19837</td>\n",
       "      <td>Nest never observed with full clutch.</td>\n",
       "    </tr>\n",
       "  </tbody>\n",
       "</table>\n",
       "</div>"
      ],
      "text/plain": [
       "  studyName  Sample Number                              Species  Region  \\\n",
       "0   PAL0708              7  Adelie Penguin (Pygoscelis adeliae)  Anvers   \n",
       "1   PAL0708              8  Adelie Penguin (Pygoscelis adeliae)  Anvers   \n",
       "2   PAL0708             29  Adelie Penguin (Pygoscelis adeliae)  Anvers   \n",
       "\n",
       "      Island               Stage Individual ID Clutch Completion    Date Egg  \\\n",
       "0  Torgersen  Adult, 1 Egg Stage          N4A1                No  2007-11-15   \n",
       "1  Torgersen  Adult, 1 Egg Stage          N4A2                No  2007-11-15   \n",
       "2     Biscoe  Adult, 1 Egg Stage         N18A1                No  2007-11-10   \n",
       "\n",
       "   Culmen Length (mm)  Culmen Depth (mm)  Flipper Length (mm)  Body Mass (g)  \\\n",
       "0                38.9               17.8                181.0         3625.0   \n",
       "1                39.2               19.6                195.0         4675.0   \n",
       "2                37.9               18.6                172.0         3150.0   \n",
       "\n",
       "      Sex  Delta 15 N (o/oo)  Delta 13 C (o/oo)  \\\n",
       "0  FEMALE            9.18718          -25.21799   \n",
       "1    MALE            9.46060          -24.89958   \n",
       "2  FEMALE            8.38404          -25.19837   \n",
       "\n",
       "                                Comments  \n",
       "0  Nest never observed with full clutch.  \n",
       "1  Nest never observed with full clutch.  \n",
       "2  Nest never observed with full clutch.  "
      ]
     },
     "execution_count": 39,
     "metadata": {
     },
     "output_type": "execute_result"
    }
   ],
   "source": [
    "penguins_df = pd.read_csv(\"https://raw.githubusercontent.com/mcnakhaee/palmerpenguins/master/palmerpenguins/data/penguins-raw.csv\")\n",
    "penguins_df.dropna(inplace = True)\n",
    "penguins_df.reset_index(inplace = True, drop = True)\n",
    "penguins_df.head(3)"
   ]
  },
  {
   "cell_type": "code",
   "execution_count": 40,
   "metadata": {
    "collapsed": false
   },
   "outputs": [
    {
     "data": {
      "text/html": [
       "<div>\n",
       "<style scoped>\n",
       "    .dataframe tbody tr th:only-of-type {\n",
       "        vertical-align: middle;\n",
       "    }\n",
       "\n",
       "    .dataframe tbody tr th {\n",
       "        vertical-align: top;\n",
       "    }\n",
       "\n",
       "    .dataframe thead th {\n",
       "        text-align: right;\n",
       "    }\n",
       "</style>\n",
       "<table border=\"1\" class=\"dataframe\">\n",
       "  <thead>\n",
       "    <tr style=\"text-align: right;\">\n",
       "      <th></th>\n",
       "      <th>Culmen Length (mm)</th>\n",
       "      <th>Culmen Depth (mm)</th>\n",
       "      <th>Flipper Length (mm)</th>\n",
       "      <th>Body Mass (g)</th>\n",
       "      <th>Sex</th>\n",
       "    </tr>\n",
       "  </thead>\n",
       "  <tbody>\n",
       "    <tr>\n",
       "      <th>0</th>\n",
       "      <td>38.9</td>\n",
       "      <td>17.8</td>\n",
       "      <td>181.0</td>\n",
       "      <td>3625.0</td>\n",
       "      <td>FEMALE</td>\n",
       "    </tr>\n",
       "    <tr>\n",
       "      <th>1</th>\n",
       "      <td>39.2</td>\n",
       "      <td>19.6</td>\n",
       "      <td>195.0</td>\n",
       "      <td>4675.0</td>\n",
       "      <td>MALE</td>\n",
       "    </tr>\n",
       "    <tr>\n",
       "      <th>2</th>\n",
       "      <td>37.9</td>\n",
       "      <td>18.6</td>\n",
       "      <td>172.0</td>\n",
       "      <td>3150.0</td>\n",
       "      <td>FEMALE</td>\n",
       "    </tr>\n",
       "    <tr>\n",
       "      <th>3</th>\n",
       "      <td>40.5</td>\n",
       "      <td>18.9</td>\n",
       "      <td>180.0</td>\n",
       "      <td>3950.0</td>\n",
       "      <td>MALE</td>\n",
       "    </tr>\n",
       "    <tr>\n",
       "      <th>4</th>\n",
       "      <td>37.6</td>\n",
       "      <td>19.3</td>\n",
       "      <td>181.0</td>\n",
       "      <td>3300.0</td>\n",
       "      <td>FEMALE</td>\n",
       "    </tr>\n",
       "  </tbody>\n",
       "</table>\n",
       "</div>"
      ],
      "text/plain": [
       "   Culmen Length (mm)  Culmen Depth (mm)  Flipper Length (mm)  Body Mass (g)  \\\n",
       "0                38.9               17.8                181.0         3625.0   \n",
       "1                39.2               19.6                195.0         4675.0   \n",
       "2                37.9               18.6                172.0         3150.0   \n",
       "3                40.5               18.9                180.0         3950.0   \n",
       "4                37.6               19.3                181.0         3300.0   \n",
       "\n",
       "      Sex  \n",
       "0  FEMALE  \n",
       "1    MALE  \n",
       "2  FEMALE  \n",
       "3    MALE  \n",
       "4  FEMALE  "
      ]
     },
     "execution_count": 40,
     "metadata": {
     },
     "output_type": "execute_result"
    }
   ],
   "source": [
    "df = penguins_df[penguins_df.dtypes[penguins_df.dtypes == \"float64\"].index]\n",
    "df.drop(columns = [\"Delta 15 N (o/oo)\", \"Delta 13 C (o/oo)\"], inplace = True)\n",
    "df[\"Sex\"] = penguins_df[\"Sex\"]\n",
    "df.head()"
   ]
  },
  {
   "cell_type": "code",
   "execution_count": 41,
   "metadata": {
    "collapsed": false
   },
   "outputs": [
   ],
   "source": [
    "from sklearn.model_selection import train_test_split\n",
    "from sklearn.svm import SVC"
   ]
  },
  {
   "cell_type": "code",
   "execution_count": 42,
   "metadata": {
    "collapsed": false
   },
   "outputs": [
   ],
   "source": [
    "x = df.drop(columns = [\"Sex\"])\n",
    "y = df[\"Sex\"]\n",
    "\n",
    "\n",
    "x_train, x_test, y_train, y_test = train_test_split(x, y, test_size = 0.2)"
   ]
  },
  {
   "cell_type": "code",
   "execution_count": 43,
   "metadata": {
    "collapsed": false
   },
   "outputs": [
    {
     "data": {
      "text/plain": [
       "SVC()"
      ]
     },
     "execution_count": 43,
     "metadata": {
     },
     "output_type": "execute_result"
    }
   ],
   "source": [
    "model = SVC()\n",
    "model.fit(x_train, y_train)"
   ]
  },
  {
   "cell_type": "code",
   "execution_count": 44,
   "metadata": {
    "collapsed": false
   },
   "outputs": [
    {
     "data": {
      "text/plain": [
       "0.7142857142857143"
      ]
     },
     "execution_count": 44,
     "metadata": {
     },
     "output_type": "execute_result"
    }
   ],
   "source": [
    "preds = model.predict(x_test)\n",
    "acc = (preds == y_test).mean()\n",
    "acc"
   ]
  },
  {
   "cell_type": "markdown",
   "metadata": {
    "collapsed": false
   },
   "source": [
    "## HyperParameter Tuning"
   ]
  },
  {
   "cell_type": "code",
   "execution_count": 33,
   "metadata": {
    "collapsed": false
   },
   "outputs": [
   ],
   "source": [
    "from sklearn.model_selection import GridSearchCV"
   ]
  },
  {
   "cell_type": "code",
   "execution_count": 45,
   "metadata": {
    "collapsed": false
   },
   "outputs": [
    {
     "name": "stdout",
     "output_type": "stream",
     "text": [
      "Fitting 5 folds for each of 50 candidates, totalling 250 fits\n",
      "[CV] END .....................C=0.5, degree=1, kernel=linear; total time=   0.3s\n",
      "[CV] END .....................C=0.5, degree=1, kernel=linear; total time=   0.1s\n",
      "[CV] END .....................C=0.5, degree=1, kernel=linear; total time=   0.1s\n",
      "[CV] END .....................C=0.5, degree=1, kernel=linear; total time=   0.0s\n",
      "[CV] END .....................C=0.5, degree=1, kernel=linear; total time=   0.0s\n",
      "[CV] END ....................C=0.5, degree=1, kernel=sigmoid; total time=   0.0s\n",
      "[CV] END ....................C=0.5, degree=1, kernel=sigmoid; total time=   0.0s\n",
      "[CV] END ....................C=0.5, degree=1, kernel=sigmoid; total time=   0.0s\n",
      "[CV] END ....................C=0.5, degree=1, kernel=sigmoid; total time=   0.0s\n",
      "[CV] END ....................C=0.5, degree=1, kernel=sigmoid; total time=   0.0s\n",
      "[CV] END .....................C=0.5, degree=2, kernel=linear; total time=   0.1s\n",
      "[CV] END .....................C=0.5, degree=2, kernel=linear; total time=   0.0s\n",
      "[CV] END .....................C=0.5, degree=2, kernel=linear; total time=   0.0s\n",
      "[CV] END .....................C=0.5, degree=2, kernel=linear; total time=   0.0s\n",
      "[CV] END .....................C=0.5, degree=2, kernel=linear; total time=   0.0s\n",
      "[CV] END ....................C=0.5, degree=2, kernel=sigmoid; total time=   0.0s\n",
      "[CV] END ....................C=0.5, degree=2, kernel=sigmoid; total time=   0.0s\n",
      "[CV] END ....................C=0.5, degree=2, kernel=sigmoid; total time=   0.0s\n",
      "[CV] END ....................C=0.5, degree=2, kernel=sigmoid; total time=   0.0s\n",
      "[CV] END ....................C=0.5, degree=2, kernel=sigmoid; total time=   0.0s\n",
      "[CV] END .....................C=0.5, degree=4, kernel=linear; total time=   0.1s\n",
      "[CV] END .....................C=0.5, degree=4, kernel=linear; total time=   0.1s\n",
      "[CV] END .....................C=0.5, degree=4, kernel=linear; total time=   0.1s\n",
      "[CV] END .....................C=0.5, degree=4, kernel=linear; total time=   0.1s\n",
      "[CV] END .....................C=0.5, degree=4, kernel=linear; total time=   0.1s\n",
      "[CV] END ....................C=0.5, degree=4, kernel=sigmoid; total time=   0.0s\n",
      "[CV] END ....................C=0.5, degree=4, kernel=sigmoid; total time=   0.0s\n",
      "[CV] END ....................C=0.5, degree=4, kernel=sigmoid; total time=   0.0s\n",
      "[CV] END ....................C=0.5, degree=4, kernel=sigmoid; total time=   0.0s\n",
      "[CV] END ....................C=0.5, degree=4, kernel=sigmoid; total time=   0.0s\n",
      "[CV] END ....................C=0.5, degree=10, kernel=linear; total time=   0.2s\n",
      "[CV] END ....................C=0.5, degree=10, kernel=linear; total time=   0.1s\n",
      "[CV] END ....................C=0.5, degree=10, kernel=linear; total time=   0.0s\n",
      "[CV] END ....................C=0.5, degree=10, kernel=linear; total time=   0.0s\n",
      "[CV] END ....................C=0.5, degree=10, kernel=linear; total time=   0.0s\n",
      "[CV] END ...................C=0.5, degree=10, kernel=sigmoid; total time=   0.0s\n",
      "[CV] END ...................C=0.5, degree=10, kernel=sigmoid; total time=   0.0s\n",
      "[CV] END ...................C=0.5, degree=10, kernel=sigmoid; total time=   0.0s\n",
      "[CV] END ...................C=0.5, degree=10, kernel=sigmoid; total time=   0.0s\n",
      "[CV] END ...................C=0.5, degree=10, kernel=sigmoid; total time=   0.0s\n",
      "[CV] END ....................C=0.5, degree=12, kernel=linear; total time=   0.1s\n",
      "[CV] END ....................C=0.5, degree=12, kernel=linear; total time=   0.0s\n",
      "[CV] END ....................C=0.5, degree=12, kernel=linear; total time=   0.0s\n",
      "[CV] END ....................C=0.5, degree=12, kernel=linear; total time=   0.0s\n",
      "[CV] END ....................C=0.5, degree=12, kernel=linear; total time=   0.0s\n",
      "[CV] END ...................C=0.5, degree=12, kernel=sigmoid; total time=   0.0s\n",
      "[CV] END ...................C=0.5, degree=12, kernel=sigmoid; total time=   0.0s\n",
      "[CV] END ...................C=0.5, degree=12, kernel=sigmoid; total time=   0.0s\n",
      "[CV] END ...................C=0.5, degree=12, kernel=sigmoid; total time=   0.0s\n",
      "[CV] END ...................C=0.5, degree=12, kernel=sigmoid; total time=   0.0s\n",
      "[CV] END .....................C=0.7, degree=1, kernel=linear; total time=   0.1s\n",
      "[CV] END .....................C=0.7, degree=1, kernel=linear; total time=   0.4s\n",
      "[CV] END .....................C=0.7, degree=1, kernel=linear; total time=   0.0s\n",
      "[CV] END .....................C=0.7, degree=1, kernel=linear; total time=   0.0s\n",
      "[CV] END .....................C=0.7, degree=1, kernel=linear; total time=   0.0s\n",
      "[CV] END ....................C=0.7, degree=1, kernel=sigmoid; total time=   0.0s\n",
      "[CV] END ....................C=0.7, degree=1, kernel=sigmoid; total time=   0.0s\n",
      "[CV] END ....................C=0.7, degree=1, kernel=sigmoid; total time=   0.0s\n",
      "[CV] END ....................C=0.7, degree=1, kernel=sigmoid; total time=   0.0s\n",
      "[CV] END ....................C=0.7, degree=1, kernel=sigmoid; total time=   0.0s\n",
      "[CV] END .....................C=0.7, degree=2, kernel=linear; total time=   0.1s\n",
      "[CV] END .....................C=0.7, degree=2, kernel=linear; total time=   0.4s\n",
      "[CV] END .....................C=0.7, degree=2, kernel=linear; total time=   0.0s\n",
      "[CV] END .....................C=0.7, degree=2, kernel=linear; total time=   0.1s\n",
      "[CV] END .....................C=0.7, degree=2, kernel=linear; total time=   0.0s\n",
      "[CV] END ....................C=0.7, degree=2, kernel=sigmoid; total time=   0.0s\n",
      "[CV] END ....................C=0.7, degree=2, kernel=sigmoid; total time=   0.0s\n",
      "[CV] END ....................C=0.7, degree=2, kernel=sigmoid; total time=   0.0s\n",
      "[CV] END ....................C=0.7, degree=2, kernel=sigmoid; total time=   0.0s\n",
      "[CV] END ....................C=0.7, degree=2, kernel=sigmoid; total time=   0.0s\n",
      "[CV] END .....................C=0.7, degree=4, kernel=linear; total time=   0.2s\n",
      "[CV] END .....................C=0.7, degree=4, kernel=linear; total time=   0.5s\n",
      "[CV] END .....................C=0.7, degree=4, kernel=linear; total time=   0.0s\n",
      "[CV] END .....................C=0.7, degree=4, kernel=linear; total time=   0.0s\n",
      "[CV] END .....................C=0.7, degree=4, kernel=linear; total time=   0.0s\n",
      "[CV] END ....................C=0.7, degree=4, kernel=sigmoid; total time=   0.0s\n",
      "[CV] END ....................C=0.7, degree=4, kernel=sigmoid; total time=   0.0s\n",
      "[CV] END ....................C=0.7, degree=4, kernel=sigmoid; total time=   0.0s\n",
      "[CV] END ....................C=0.7, degree=4, kernel=sigmoid; total time=   0.0s\n",
      "[CV] END ....................C=0.7, degree=4, kernel=sigmoid; total time=   0.0s\n",
      "[CV] END ....................C=0.7, degree=10, kernel=linear; total time=   0.1s\n",
      "[CV] END ....................C=0.7, degree=10, kernel=linear; total time=   0.4s\n",
      "[CV] END ....................C=0.7, degree=10, kernel=linear; total time=   0.0s\n",
      "[CV] END ....................C=0.7, degree=10, kernel=linear; total time=   0.0s\n",
      "[CV] END ....................C=0.7, degree=10, kernel=linear; total time=   0.0s\n",
      "[CV] END ...................C=0.7, degree=10, kernel=sigmoid; total time=   0.0s\n",
      "[CV] END ...................C=0.7, degree=10, kernel=sigmoid; total time=   0.0s\n",
      "[CV] END ...................C=0.7, degree=10, kernel=sigmoid; total time=   0.0s\n",
      "[CV] END ...................C=0.7, degree=10, kernel=sigmoid; total time=   0.0s\n",
      "[CV] END ...................C=0.7, degree=10, kernel=sigmoid; total time=   0.0s\n",
      "[CV] END ....................C=0.7, degree=12, kernel=linear; total time=   0.1s\n",
      "[CV] END ....................C=0.7, degree=12, kernel=linear; total time=   0.4s\n",
      "[CV] END ....................C=0.7, degree=12, kernel=linear; total time=   0.0s\n",
      "[CV] END ....................C=0.7, degree=12, kernel=linear; total time=   0.0s\n",
      "[CV] END ....................C=0.7, degree=12, kernel=linear; total time=   0.0s\n",
      "[CV] END ...................C=0.7, degree=12, kernel=sigmoid; total time=   0.0s\n",
      "[CV] END ...................C=0.7, degree=12, kernel=sigmoid; total time=   0.0s\n",
      "[CV] END ...................C=0.7, degree=12, kernel=sigmoid; total time=   0.0s\n",
      "[CV] END ...................C=0.7, degree=12, kernel=sigmoid; total time=   0.0s\n",
      "[CV] END ...................C=0.7, degree=12, kernel=sigmoid; total time=   0.0s\n",
      "[CV] END .....................C=0.9, degree=1, kernel=linear; total time=   0.2s\n",
      "[CV] END .....................C=0.9, degree=1, kernel=linear; total time=   0.7s\n",
      "[CV] END .....................C=0.9, degree=1, kernel=linear; total time=   0.0s\n",
      "[CV] END .....................C=0.9, degree=1, kernel=linear; total time=   0.0s\n",
      "[CV] END .....................C=0.9, degree=1, kernel=linear; total time=   0.0s\n",
      "[CV] END ....................C=0.9, degree=1, kernel=sigmoid; total time=   0.0s\n",
      "[CV] END ....................C=0.9, degree=1, kernel=sigmoid; total time=   0.0s\n",
      "[CV] END ....................C=0.9, degree=1, kernel=sigmoid; total time=   0.0s\n",
      "[CV] END ....................C=0.9, degree=1, kernel=sigmoid; total time=   0.0s\n",
      "[CV] END ....................C=0.9, degree=1, kernel=sigmoid; total time=   0.0s\n",
      "[CV] END .....................C=0.9, degree=2, kernel=linear; total time=   0.1s\n",
      "[CV] END .....................C=0.9, degree=2, kernel=linear; total time=   0.8s\n",
      "[CV] END .....................C=0.9, degree=2, kernel=linear; total time=   0.0s\n",
      "[CV] END .....................C=0.9, degree=2, kernel=linear; total time=   0.0s\n",
      "[CV] END .....................C=0.9, degree=2, kernel=linear; total time=   0.0s\n",
      "[CV] END ....................C=0.9, degree=2, kernel=sigmoid; total time=   0.0s\n",
      "[CV] END ....................C=0.9, degree=2, kernel=sigmoid; total time=   0.0s\n",
      "[CV] END ....................C=0.9, degree=2, kernel=sigmoid; total time=   0.0s\n",
      "[CV] END ....................C=0.9, degree=2, kernel=sigmoid; total time=   0.0s\n",
      "[CV] END ....................C=0.9, degree=2, kernel=sigmoid; total time=   0.0s\n",
      "[CV] END .....................C=0.9, degree=4, kernel=linear; total time=   0.1s\n",
      "[CV] END .....................C=0.9, degree=4, kernel=linear; total time=   0.6s\n",
      "[CV] END .....................C=0.9, degree=4, kernel=linear; total time=   0.0s\n",
      "[CV] END .....................C=0.9, degree=4, kernel=linear; total time=   0.0s\n",
      "[CV] END .....................C=0.9, degree=4, kernel=linear; total time=   0.0s\n",
      "[CV] END ....................C=0.9, degree=4, kernel=sigmoid; total time=   0.0s\n",
      "[CV] END ....................C=0.9, degree=4, kernel=sigmoid; total time=   0.0s\n",
      "[CV] END ....................C=0.9, degree=4, kernel=sigmoid; total time=   0.0s\n",
      "[CV] END ....................C=0.9, degree=4, kernel=sigmoid; total time=   0.0s\n",
      "[CV] END ....................C=0.9, degree=4, kernel=sigmoid; total time=   0.0s\n",
      "[CV] END ....................C=0.9, degree=10, kernel=linear; total time=   0.1s\n",
      "[CV] END ....................C=0.9, degree=10, kernel=linear; total time=   0.8s\n",
      "[CV] END ....................C=0.9, degree=10, kernel=linear; total time=   0.0s\n",
      "[CV] END ....................C=0.9, degree=10, kernel=linear; total time=   0.0s\n",
      "[CV] END ....................C=0.9, degree=10, kernel=linear; total time=   0.0s\n",
      "[CV] END ...................C=0.9, degree=10, kernel=sigmoid; total time=   0.0s\n",
      "[CV] END ...................C=0.9, degree=10, kernel=sigmoid; total time=   0.0s\n",
      "[CV] END ...................C=0.9, degree=10, kernel=sigmoid; total time=   0.0s\n",
      "[CV] END ...................C=0.9, degree=10, kernel=sigmoid; total time=   0.0s\n",
      "[CV] END ...................C=0.9, degree=10, kernel=sigmoid; total time=   0.0s\n",
      "[CV] END ....................C=0.9, degree=12, kernel=linear; total time=   0.1s\n",
      "[CV] END ....................C=0.9, degree=12, kernel=linear; total time=   0.6s\n",
      "[CV] END ....................C=0.9, degree=12, kernel=linear; total time=   0.0s\n",
      "[CV] END ....................C=0.9, degree=12, kernel=linear; total time=   0.0s\n",
      "[CV] END ....................C=0.9, degree=12, kernel=linear; total time=   0.0s\n",
      "[CV] END ...................C=0.9, degree=12, kernel=sigmoid; total time=   0.0s\n",
      "[CV] END ...................C=0.9, degree=12, kernel=sigmoid; total time=   0.0s\n",
      "[CV] END ...................C=0.9, degree=12, kernel=sigmoid; total time=   0.0s\n",
      "[CV] END ...................C=0.9, degree=12, kernel=sigmoid; total time=   0.0s\n",
      "[CV] END ...................C=0.9, degree=12, kernel=sigmoid; total time=   0.0s\n",
      "[CV] END .....................C=1.1, degree=1, kernel=linear; total time=   0.1s\n",
      "[CV] END .....................C=1.1, degree=1, kernel=linear; total time=   0.7s\n",
      "[CV] END .....................C=1.1, degree=1, kernel=linear; total time=   0.0s\n",
      "[CV] END .....................C=1.1, degree=1, kernel=linear; total time=   0.0s\n",
      "[CV] END .....................C=1.1, degree=1, kernel=linear; total time=   0.0s\n",
      "[CV] END ....................C=1.1, degree=1, kernel=sigmoid; total time=   0.0s\n",
      "[CV] END ....................C=1.1, degree=1, kernel=sigmoid; total time=   0.0s\n",
      "[CV] END ....................C=1.1, degree=1, kernel=sigmoid; total time=   0.0s\n",
      "[CV] END ....................C=1.1, degree=1, kernel=sigmoid; total time=   0.0s\n",
      "[CV] END ....................C=1.1, degree=1, kernel=sigmoid; total time=   0.0s\n",
      "[CV] END .....................C=1.1, degree=2, kernel=linear; total time=   0.2s\n",
      "[CV] END .....................C=1.1, degree=2, kernel=linear; total time=   1.1s\n",
      "[CV] END .....................C=1.1, degree=2, kernel=linear; total time=   0.0s\n",
      "[CV] END .....................C=1.1, degree=2, kernel=linear; total time=   0.1s\n",
      "[CV] END .....................C=1.1, degree=2, kernel=linear; total time=   0.0s\n",
      "[CV] END ....................C=1.1, degree=2, kernel=sigmoid; total time=   0.0s\n",
      "[CV] END ....................C=1.1, degree=2, kernel=sigmoid; total time=   0.0s\n",
      "[CV] END ....................C=1.1, degree=2, kernel=sigmoid; total time=   0.0s\n",
      "[CV] END ....................C=1.1, degree=2, kernel=sigmoid; total time=   0.0s\n",
      "[CV] END ....................C=1.1, degree=2, kernel=sigmoid; total time=   0.0s\n",
      "[CV] END .....................C=1.1, degree=4, kernel=linear; total time=   0.2s\n",
      "[CV] END .....................C=1.1, degree=4, kernel=linear; total time=   1.1s\n",
      "[CV] END .....................C=1.1, degree=4, kernel=linear; total time=   0.1s\n",
      "[CV] END .....................C=1.1, degree=4, kernel=linear; total time=   0.1s\n",
      "[CV] END .....................C=1.1, degree=4, kernel=linear; total time=   0.0s\n",
      "[CV] END ....................C=1.1, degree=4, kernel=sigmoid; total time=   0.0s\n",
      "[CV] END ....................C=1.1, degree=4, kernel=sigmoid; total time=   0.0s\n",
      "[CV] END ....................C=1.1, degree=4, kernel=sigmoid; total time=   0.0s\n",
      "[CV] END ....................C=1.1, degree=4, kernel=sigmoid; total time=   0.0s\n",
      "[CV] END ....................C=1.1, degree=4, kernel=sigmoid; total time=   0.0s\n",
      "[CV] END ....................C=1.1, degree=10, kernel=linear; total time=   0.2s\n",
      "[CV] END ....................C=1.1, degree=10, kernel=linear; total time=   0.8s\n",
      "[CV] END ....................C=1.1, degree=10, kernel=linear; total time=   0.1s\n",
      "[CV] END ....................C=1.1, degree=10, kernel=linear; total time=   0.1s\n",
      "[CV] END ....................C=1.1, degree=10, kernel=linear; total time=   0.0s\n",
      "[CV] END ...................C=1.1, degree=10, kernel=sigmoid; total time=   0.0s\n",
      "[CV] END ...................C=1.1, degree=10, kernel=sigmoid; total time=   0.0s\n",
      "[CV] END ...................C=1.1, degree=10, kernel=sigmoid; total time=   0.0s\n",
      "[CV] END ...................C=1.1, degree=10, kernel=sigmoid; total time=   0.0s\n",
      "[CV] END ...................C=1.1, degree=10, kernel=sigmoid; total time=   0.0s\n",
      "[CV] END ....................C=1.1, degree=12, kernel=linear; total time=   0.2s\n",
      "[CV] END ....................C=1.1, degree=12, kernel=linear; total time=   1.4s\n",
      "[CV] END ....................C=1.1, degree=12, kernel=linear; total time=   0.0s\n",
      "[CV] END ....................C=1.1, degree=12, kernel=linear; total time=   0.1s\n",
      "[CV] END ....................C=1.1, degree=12, kernel=linear; total time=   0.0s\n",
      "[CV] END ...................C=1.1, degree=12, kernel=sigmoid; total time=   0.0s\n",
      "[CV] END ...................C=1.1, degree=12, kernel=sigmoid; total time=   0.0s\n",
      "[CV] END ...................C=1.1, degree=12, kernel=sigmoid; total time=   0.0s\n",
      "[CV] END ...................C=1.1, degree=12, kernel=sigmoid; total time=   0.0s\n",
      "[CV] END ...................C=1.1, degree=12, kernel=sigmoid; total time=   0.0s\n",
      "[CV] END .....................C=1.3, degree=1, kernel=linear; total time=   0.3s\n",
      "[CV] END .....................C=1.3, degree=1, kernel=linear; total time=   0.9s\n",
      "[CV] END .....................C=1.3, degree=1, kernel=linear; total time=   0.0s\n",
      "[CV] END .....................C=1.3, degree=1, kernel=linear; total time=   0.0s\n",
      "[CV] END .....................C=1.3, degree=1, kernel=linear; total time=   0.0s\n",
      "[CV] END ....................C=1.3, degree=1, kernel=sigmoid; total time=   0.0s\n",
      "[CV] END ....................C=1.3, degree=1, kernel=sigmoid; total time=   0.0s\n",
      "[CV] END ....................C=1.3, degree=1, kernel=sigmoid; total time=   0.0s\n",
      "[CV] END ....................C=1.3, degree=1, kernel=sigmoid; total time=   0.0s\n",
      "[CV] END ....................C=1.3, degree=1, kernel=sigmoid; total time=   0.0s\n",
      "[CV] END .....................C=1.3, degree=2, kernel=linear; total time=   0.1s\n",
      "[CV] END .....................C=1.3, degree=2, kernel=linear; total time=   0.7s\n",
      "[CV] END .....................C=1.3, degree=2, kernel=linear; total time=   0.0s\n",
      "[CV] END .....................C=1.3, degree=2, kernel=linear; total time=   0.0s\n",
      "[CV] END .....................C=1.3, degree=2, kernel=linear; total time=   0.0s\n",
      "[CV] END ....................C=1.3, degree=2, kernel=sigmoid; total time=   0.0s\n",
      "[CV] END ....................C=1.3, degree=2, kernel=sigmoid; total time=   0.0s\n",
      "[CV] END ....................C=1.3, degree=2, kernel=sigmoid; total time=   0.0s\n",
      "[CV] END ....................C=1.3, degree=2, kernel=sigmoid; total time=   0.0s\n",
      "[CV] END ....................C=1.3, degree=2, kernel=sigmoid; total time=   0.0s\n",
      "[CV] END .....................C=1.3, degree=4, kernel=linear; total time=   0.2s\n",
      "[CV] END .....................C=1.3, degree=4, kernel=linear; total time=   0.7s\n",
      "[CV] END .....................C=1.3, degree=4, kernel=linear; total time=   0.0s\n",
      "[CV] END .....................C=1.3, degree=4, kernel=linear; total time=   0.0s\n",
      "[CV] END .....................C=1.3, degree=4, kernel=linear; total time=   0.0s\n",
      "[CV] END ....................C=1.3, degree=4, kernel=sigmoid; total time=   0.0s\n",
      "[CV] END ....................C=1.3, degree=4, kernel=sigmoid; total time=   0.0s\n",
      "[CV] END ....................C=1.3, degree=4, kernel=sigmoid; total time=   0.0s\n",
      "[CV] END ....................C=1.3, degree=4, kernel=sigmoid; total time=   0.0s\n",
      "[CV] END ....................C=1.3, degree=4, kernel=sigmoid; total time=   0.0s\n",
      "[CV] END ....................C=1.3, degree=10, kernel=linear; total time=   0.1s\n",
      "[CV] END ....................C=1.3, degree=10, kernel=linear; total time=   0.9s\n",
      "[CV] END ....................C=1.3, degree=10, kernel=linear; total time=   0.0s\n",
      "[CV] END ....................C=1.3, degree=10, kernel=linear; total time=   0.0s\n",
      "[CV] END ....................C=1.3, degree=10, kernel=linear; total time=   0.0s\n",
      "[CV] END ...................C=1.3, degree=10, kernel=sigmoid; total time=   0.0s\n",
      "[CV] END ...................C=1.3, degree=10, kernel=sigmoid; total time=   0.0s\n",
      "[CV] END ...................C=1.3, degree=10, kernel=sigmoid; total time=   0.0s\n",
      "[CV] END ...................C=1.3, degree=10, kernel=sigmoid; total time=   0.0s\n",
      "[CV] END ...................C=1.3, degree=10, kernel=sigmoid; total time=   0.0s\n",
      "[CV] END ....................C=1.3, degree=12, kernel=linear; total time=   0.1s\n",
      "[CV] END ....................C=1.3, degree=12, kernel=linear; total time=   0.7s\n",
      "[CV] END ....................C=1.3, degree=12, kernel=linear; total time=   0.0s\n",
      "[CV] END ....................C=1.3, degree=12, kernel=linear; total time=   0.0s\n",
      "[CV] END ....................C=1.3, degree=12, kernel=linear; total time=   0.0s\n",
      "[CV] END ...................C=1.3, degree=12, kernel=sigmoid; total time=   0.0s\n",
      "[CV] END ...................C=1.3, degree=12, kernel=sigmoid; total time=   0.0s\n",
      "[CV] END ...................C=1.3, degree=12, kernel=sigmoid; total time=   0.0s\n",
      "[CV] END ...................C=1.3, degree=12, kernel=sigmoid; total time=   0.0s\n",
      "[CV] END ...................C=1.3, degree=12, kernel=sigmoid; total time=   0.0s\n"
     ]
    },
    {
     "data": {
      "text/plain": [
       "GridSearchCV(estimator=SVC(),\n",
       "             param_grid={'C': [0.5, 0.7, 0.9, 1.1, 1.3],\n",
       "                         'degree': [1, 2, 4, 10, 12],\n",
       "                         'kernel': ['linear', 'sigmoid']},\n",
       "             verbose=2)"
      ]
     },
     "execution_count": 45,
     "metadata": {
     },
     "output_type": "execute_result"
    }
   ],
   "source": [
    "parameters = {\n",
    "    \"C\": [0.5, 0.7, 0.9, 1.1, 1.3],\n",
    "    \"degree\": [1, 2, 4, 10, 12],\n",
    "    \"kernel\": [\"linear\", \"sigmoid\"]\n",
    "}\n",
    "\n",
    "optimizer = GridSearchCV(SVC(), param_grid = parameters, verbose = 2)\n",
    "optimizer.fit(x_train, y_train)"
   ]
  },
  {
   "cell_type": "code",
   "execution_count": 46,
   "metadata": {
    "collapsed": false
   },
   "outputs": [
    {
     "data": {
      "text/plain": [
       "{'C': 0.5, 'degree': 1, 'kernel': 'linear'}"
      ]
     },
     "execution_count": 46,
     "metadata": {
     },
     "output_type": "execute_result"
    }
   ],
   "source": [
    "optimizer.best_params_"
   ]
  },
  {
   "cell_type": "code",
   "execution_count": 47,
   "metadata": {
    "collapsed": false
   },
   "outputs": [
    {
     "data": {
      "text/plain": [
       "SVC(C=0.5, degree=1, kernel='linear')"
      ]
     },
     "execution_count": 47,
     "metadata": {
     },
     "output_type": "execute_result"
    }
   ],
   "source": [
    "new_model = SVC(C = 0.5, degree = 1, kernel = \"linear\")\n",
    "new_model.fit(x_train, y_train)"
   ]
  },
  {
   "cell_type": "code",
   "execution_count": 48,
   "metadata": {
    "collapsed": false
   },
   "outputs": [
    {
     "data": {
      "text/plain": [
       "0.8571428571428571"
      ]
     },
     "execution_count": 48,
     "metadata": {
     },
     "output_type": "execute_result"
    }
   ],
   "source": [
    "new_preds = new_model.predict(x_test)\n",
    "new_acc = (new_preds == y_test).mean()\n",
    "new_acc"
   ]
  },
  {
   "cell_type": "code",
   "execution_count": 0,
   "metadata": {
    "collapsed": false
   },
   "outputs": [
   ],
   "source": [
   ]
  }
 ],
 "metadata": {
  "kernelspec": {
   "display_name": "Python (ds_env)",
   "language": "python",
   "metadata": {
    "debugger": true
   },
   "name": "ds_env",
   "resource_dir": "/projects/a2965908-ba18-4335-af0a-8fe3955e8e18/.local/share/jupyter/kernels/ds_env"
  },
  "language_info": {
   "codemirror_mode": {
    "name": "ipython",
    "version": 3
   },
   "file_extension": ".py",
   "mimetype": "text/x-python",
   "name": "python",
   "nbconvert_exporter": "python",
   "pygments_lexer": "ipython3",
   "version": "3.8.2"
  }
 },
 "nbformat": 4,
 "nbformat_minor": 4
}