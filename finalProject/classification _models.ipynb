{
 "cells": [
  {
   "cell_type": "markdown",
   "metadata": {
    "collapsed": false
   },
   "source": [
    "### Just Some Data Cleansing\n",
    "\n"
   ]
  },
  {
   "cell_type": "code",
   "execution_count": 77,
   "metadata": {
    "collapsed": false
   },
   "outputs": [
   ],
   "source": [
    "# Import Pandas and NumPy\n",
    "import pandas as pd\n",
    "import numpy as np"
   ]
  },
  {
   "cell_type": "code",
   "execution_count": 78,
   "metadata": {
    "collapsed": false
   },
   "outputs": [
   ],
   "source": [
    "# Reads the data into a dataframe\n",
    "milk = pd.read_csv(\"Data/milk.csv\")"
   ]
  },
  {
   "cell_type": "code",
   "execution_count": 79,
   "metadata": {
    "collapsed": false
   },
   "outputs": [
   ],
   "source": [
    "# Fix errors in column names\n",
    "milk.rename(columns = {\"Temprature\": \"Temperature\", \"Fat \": \"Fat\", \"Colour\": \"Color\"}, inplace = True)"
   ]
  },
  {
   "cell_type": "code",
   "execution_count": 80,
   "metadata": {
    "collapsed": false
   },
   "outputs": [
    {
     "data": {
      "text/html": [
       "<div>\n",
       "<style scoped>\n",
       "    .dataframe tbody tr th:only-of-type {\n",
       "        vertical-align: middle;\n",
       "    }\n",
       "\n",
       "    .dataframe tbody tr th {\n",
       "        vertical-align: top;\n",
       "    }\n",
       "\n",
       "    .dataframe thead th {\n",
       "        text-align: right;\n",
       "    }\n",
       "</style>\n",
       "<table border=\"1\" class=\"dataframe\">\n",
       "  <thead>\n",
       "    <tr style=\"text-align: right;\">\n",
       "      <th></th>\n",
       "      <th>pH</th>\n",
       "      <th>Temperature</th>\n",
       "      <th>Taste</th>\n",
       "      <th>Odor</th>\n",
       "      <th>Fat</th>\n",
       "      <th>Turbidity</th>\n",
       "      <th>Color</th>\n",
       "      <th>Grade</th>\n",
       "    </tr>\n",
       "  </thead>\n",
       "  <tbody>\n",
       "    <tr>\n",
       "      <th>0</th>\n",
       "      <td>6.6</td>\n",
       "      <td>35</td>\n",
       "      <td>1</td>\n",
       "      <td>0</td>\n",
       "      <td>1</td>\n",
       "      <td>0</td>\n",
       "      <td>254</td>\n",
       "      <td>high</td>\n",
       "    </tr>\n",
       "    <tr>\n",
       "      <th>1</th>\n",
       "      <td>6.6</td>\n",
       "      <td>36</td>\n",
       "      <td>0</td>\n",
       "      <td>1</td>\n",
       "      <td>0</td>\n",
       "      <td>1</td>\n",
       "      <td>253</td>\n",
       "      <td>high</td>\n",
       "    </tr>\n",
       "    <tr>\n",
       "      <th>2</th>\n",
       "      <td>8.5</td>\n",
       "      <td>70</td>\n",
       "      <td>1</td>\n",
       "      <td>1</td>\n",
       "      <td>1</td>\n",
       "      <td>1</td>\n",
       "      <td>246</td>\n",
       "      <td>low</td>\n",
       "    </tr>\n",
       "    <tr>\n",
       "      <th>3</th>\n",
       "      <td>9.5</td>\n",
       "      <td>34</td>\n",
       "      <td>1</td>\n",
       "      <td>1</td>\n",
       "      <td>0</td>\n",
       "      <td>1</td>\n",
       "      <td>255</td>\n",
       "      <td>low</td>\n",
       "    </tr>\n",
       "    <tr>\n",
       "      <th>4</th>\n",
       "      <td>6.6</td>\n",
       "      <td>37</td>\n",
       "      <td>0</td>\n",
       "      <td>0</td>\n",
       "      <td>0</td>\n",
       "      <td>0</td>\n",
       "      <td>255</td>\n",
       "      <td>medium</td>\n",
       "    </tr>\n",
       "  </tbody>\n",
       "</table>\n",
       "</div>"
      ],
      "text/plain": [
       "    pH  Temperature  Taste  Odor  Fat  Turbidity  Color   Grade\n",
       "0  6.6           35      1     0    1          0    254    high\n",
       "1  6.6           36      0     1    0          1    253    high\n",
       "2  8.5           70      1     1    1          1    246     low\n",
       "3  9.5           34      1     1    0          1    255     low\n",
       "4  6.6           37      0     0    0          0    255  medium"
      ]
     },
     "execution_count": 80,
     "metadata": {
     },
     "output_type": "execute_result"
    }
   ],
   "source": [
    "# Prints top 5 rows\n",
    "milk.head()"
   ]
  },
  {
   "cell_type": "code",
   "execution_count": 81,
   "metadata": {
    "collapsed": false
   },
   "outputs": [
    {
     "data": {
      "text/plain": [
       "1059"
      ]
     },
     "execution_count": 81,
     "metadata": {
     },
     "output_type": "execute_result"
    }
   ],
   "source": [
    "# Checks how many rows there are\n",
    "len(milk)"
   ]
  },
  {
   "cell_type": "code",
   "execution_count": 82,
   "metadata": {
    "collapsed": false
   },
   "outputs": [
    {
     "data": {
      "text/plain": [
       "256"
      ]
     },
     "execution_count": 82,
     "metadata": {
     },
     "output_type": "execute_result"
    }
   ],
   "source": [
    "# Checks how many rows are high, medium, and low\n",
    "len(milk[milk[\"Grade\"] == \"high\"])"
   ]
  },
  {
   "cell_type": "code",
   "execution_count": 83,
   "metadata": {
    "collapsed": false,
    "scrolled": true
   },
   "outputs": [
    {
     "data": {
      "text/plain": [
       "374"
      ]
     },
     "execution_count": 83,
     "metadata": {
     },
     "output_type": "execute_result"
    }
   ],
   "source": [
    "len(milk[milk[\"Grade\"] == \"medium\"])"
   ]
  },
  {
   "cell_type": "code",
   "execution_count": 84,
   "metadata": {
    "collapsed": false
   },
   "outputs": [
    {
     "data": {
      "text/plain": [
       "429"
      ]
     },
     "execution_count": 84,
     "metadata": {
     },
     "output_type": "execute_result"
    }
   ],
   "source": [
    "len(milk[milk[\"Grade\"] == \"low\"])"
   ]
  },
  {
   "cell_type": "code",
   "execution_count": 85,
   "metadata": {
    "collapsed": false
   },
   "outputs": [
   ],
   "source": [
    "# Drops null values if there are any\n",
    "milk.dropna(inplace = True)\n",
    "milk.reset_index(drop = True, inplace = True)"
   ]
  },
  {
   "cell_type": "code",
   "execution_count": 86,
   "metadata": {
    "collapsed": false
   },
   "outputs": [
    {
     "name": "stdout",
     "output_type": "stream",
     "text": [
      "<class 'pandas.core.frame.DataFrame'>\n",
      "RangeIndex: 1059 entries, 0 to 1058\n",
      "Data columns (total 8 columns):\n",
      " #   Column       Non-Null Count  Dtype  \n",
      "---  ------       --------------  -----  \n",
      " 0   pH           1059 non-null   float64\n",
      " 1   Temperature  1059 non-null   int64  \n",
      " 2   Taste        1059 non-null   int64  \n",
      " 3   Odor         1059 non-null   int64  \n",
      " 4   Fat          1059 non-null   int64  \n",
      " 5   Turbidity    1059 non-null   int64  \n",
      " 6   Color        1059 non-null   int64  \n",
      " 7   Grade        1059 non-null   object \n",
      "dtypes: float64(1), int64(6), object(1)\n",
      "memory usage: 66.3+ KB\n"
     ]
    }
   ],
   "source": [
    "# Looks at info of dataframe\n",
    "milk.info()"
   ]
  },
  {
   "cell_type": "code",
   "execution_count": 87,
   "metadata": {
    "collapsed": false
   },
   "outputs": [
   ],
   "source": [
    "# Sets target and input\n",
    "target = milk[\"Grade\"]\n",
    "input_columns = milk.drop(columns = [\"Grade\"])"
   ]
  },
  {
   "cell_type": "code",
   "execution_count": 88,
   "metadata": {
    "collapsed": false
   },
   "outputs": [
   ],
   "source": [
    "# Data Split\n",
    "import sklearn\n",
    "from sklearn.model_selection import train_test_split\n",
    "\n",
    "x_train, x_test, y_train, y_test = train_test_split(input_columns, target, test_size=0.2)"
   ]
  },
  {
   "cell_type": "code",
   "execution_count": 89,
   "metadata": {
    "collapsed": false
   },
   "outputs": [
    {
     "data": {
      "text/plain": [
       "0.7998111425873465"
      ]
     },
     "execution_count": 89,
     "metadata": {
     },
     "output_type": "execute_result"
    }
   ],
   "source": [
    "#Training data percentage\n",
    "x_train.shape[0] / milk.shape[0]"
   ]
  },
  {
   "cell_type": "code",
   "execution_count": 90,
   "metadata": {
    "collapsed": false
   },
   "outputs": [
   ],
   "source": [
    "# We are going to do K Nearest Neighbors\n",
    "from sklearn.neighbors import KNeighborsClassifier as KNN "
   ]
  },
  {
   "cell_type": "code",
   "execution_count": 91,
   "metadata": {
    "collapsed": false
   },
   "outputs": [
   ],
   "source": [
    "# Creating the KNN model object \n",
    "milk_KNN = KNN(n_neighbors = 7)"
   ]
  },
  {
   "cell_type": "code",
   "execution_count": 92,
   "metadata": {
    "collapsed": false
   },
   "outputs": [
    {
     "data": {
      "text/plain": [
       "KNeighborsClassifier(n_neighbors=7)"
      ]
     },
     "execution_count": 92,
     "metadata": {
     },
     "output_type": "execute_result"
    }
   ],
   "source": [
    "# Fit data\n",
    "milk_KNN.fit(x_train, y_train)"
   ]
  },
  {
   "cell_type": "code",
   "execution_count": 93,
   "metadata": {
    "collapsed": false
   },
   "outputs": [
    {
     "data": {
      "text/plain": [
       "array(['low', 'low', 'medium', 'medium', 'low', 'medium', 'medium', 'low',\n",
       "       'medium', 'low', 'high', 'low', 'medium', 'medium', 'medium',\n",
       "       'medium', 'low', 'high', 'low', 'high', 'high', 'high', 'medium',\n",
       "       'low', 'medium', 'low', 'high', 'low', 'low', 'medium', 'medium',\n",
       "       'low', 'low', 'high', 'high', 'high', 'low', 'high', 'low',\n",
       "       'medium', 'low', 'low', 'high', 'low', 'medium', 'low', 'high',\n",
       "       'low', 'medium', 'low', 'low', 'low', 'low', 'medium', 'low',\n",
       "       'high', 'low', 'high', 'medium', 'medium', 'low', 'low', 'medium',\n",
       "       'medium', 'medium', 'low', 'medium', 'low', 'medium', 'high',\n",
       "       'low', 'medium', 'high', 'high', 'high', 'high', 'high', 'low',\n",
       "       'medium', 'low', 'medium', 'high', 'low', 'high', 'medium', 'low',\n",
       "       'medium', 'medium', 'high', 'low', 'low', 'medium', 'low', 'high',\n",
       "       'high', 'low', 'high', 'low', 'medium', 'medium', 'low', 'low',\n",
       "       'medium', 'high', 'high', 'high', 'medium', 'high', 'medium',\n",
       "       'high', 'low', 'high', 'low', 'medium', 'high', 'high', 'medium',\n",
       "       'low', 'high', 'low', 'low', 'high', 'low', 'medium', 'high',\n",
       "       'low', 'medium', 'low', 'high', 'medium', 'low', 'low', 'medium',\n",
       "       'medium', 'low', 'medium', 'medium', 'medium', 'low', 'high',\n",
       "       'low', 'low', 'medium', 'low', 'medium', 'low', 'high', 'high',\n",
       "       'medium', 'low', 'low', 'low', 'medium', 'medium', 'high', 'low',\n",
       "       'medium', 'low', 'low', 'low', 'medium', 'medium', 'high',\n",
       "       'medium', 'medium', 'high', 'medium', 'high', 'low', 'high',\n",
       "       'medium', 'high', 'low', 'high', 'medium', 'low', 'medium', 'high',\n",
       "       'low', 'medium', 'medium', 'high', 'medium', 'low', 'high', 'low',\n",
       "       'low', 'high', 'high', 'low', 'low', 'high', 'low', 'low', 'high',\n",
       "       'high', 'low', 'medium', 'low', 'high', 'low', 'low', 'medium',\n",
       "       'low', 'medium', 'high', 'medium', 'low', 'low', 'low', 'low',\n",
       "       'low'], dtype=object)"
      ]
     },
     "execution_count": 93,
     "metadata": {
     },
     "output_type": "execute_result"
    }
   ],
   "source": [
    "# Predict data\n",
    "y_hat = milk_KNN.predict(x_test)\n",
    "y_hat"
   ]
  },
  {
   "cell_type": "code",
   "execution_count": 94,
   "metadata": {
    "collapsed": false
   },
   "outputs": [
    {
     "data": {
      "text/plain": [
       "0.9905660377358491"
      ]
     },
     "execution_count": 94,
     "metadata": {
     },
     "output_type": "execute_result"
    }
   ],
   "source": [
    "# Accuracy / KNN\n",
    "comparisons = np.array(y_hat == y_test)\n",
    "comparisons.mean()"
   ]
  },
  {
   "cell_type": "code",
   "execution_count": 95,
   "metadata": {
    "collapsed": false
   },
   "outputs": [
    {
     "data": {
      "text/plain": [
       "<matplotlib.axes._subplots.AxesSubplot at 0x7fef9adf1760>"
      ]
     },
     "execution_count": 95,
     "metadata": {
     },
     "output_type": "execute_result"
    },
    {
     "data": {
      "image/png": "[encoded data removed]",
      "text/plain": [
       "<Figure size 864x504 with 2 Axes>"
      ]
     },
     "execution_count": 95,
     "metadata": {
      "image/png": {
       "height": 411,
       "width": 638
      },
      "needs_background": "light"
     },
     "output_type": "execute_result"
    }
   ],
   "source": [
    "# Confusion Matrix\n",
    "from sklearn.metrics import confusion_matrix\n",
    "import seaborn as sns\n",
    "sns.heatmap(confusion_matrix(y_test, y_hat), annot=True, fmt='g')\n"
   ]
  },
  {
   "cell_type": "code",
   "execution_count": 96,
   "metadata": {
    "collapsed": false
   },
   "outputs": [
   ],
   "source": [
    "# Random Forest\n",
    "from sklearn.ensemble import RandomForestClassifier\n",
    "milk_RFC = RandomForestClassifier()\n",
    "milk_RFC.fit(x_train, y_train)\n",
    "y_hat = milk_RFC.predict(x_test)"
   ]
  },
  {
   "cell_type": "code",
   "execution_count": 97,
   "metadata": {
    "collapsed": false
   },
   "outputs": [
    {
     "data": {
      "text/plain": [
       "1.0"
      ]
     },
     "execution_count": 97,
     "metadata": {
     },
     "output_type": "execute_result"
    }
   ],
   "source": [
    "# Accuracy / Random Forest\n",
    "comparisions = np.array(y_hat == y_test)\n",
    "comparisions.mean()"
   ]
  },
  {
   "cell_type": "code",
   "execution_count": 98,
   "metadata": {
    "collapsed": false
   },
   "outputs": [
    {
     "data": {
      "text/plain": [
       "<matplotlib.axes._subplots.AxesSubplot at 0x7fef90355940>"
      ]
     },
     "execution_count": 98,
     "metadata": {
     },
     "output_type": "execute_result"
    },
    {
     "data": {
      "image/png": "[encoded data removed]",
      "text/plain": [
       "<Figure size 864x504 with 2 Axes>"
      ]
     },
     "execution_count": 98,
     "metadata": {
      "image/png": {
       "height": 411,
       "width": 638
      },
      "needs_background": "light"
     },
     "output_type": "execute_result"
    }
   ],
   "source": [
    "#Confusion matrix\n",
    "sns.heatmap(confusion_matrix(y_test, y_hat), annot=True, fmt='g')"
   ]
  },
  {
   "cell_type": "code",
   "execution_count": 99,
   "metadata": {
    "collapsed": false
   },
   "outputs": [
   ],
   "source": [
    "# MLP Classifier\n",
    "from sklearn.neural_network import MLPClassifier\n",
    "milk_mlp = MLPClassifier()\n",
    "milk_mlp.fit(x_train, y_train)\n",
    "y_hat = milk_mlp.predict(x_test)"
   ]
  },
  {
   "cell_type": "code",
   "execution_count": 100,
   "metadata": {
    "collapsed": false
   },
   "outputs": [
    {
     "data": {
      "text/plain": [
       "0.7452830188679245"
      ]
     },
     "execution_count": 100,
     "metadata": {
     },
     "output_type": "execute_result"
    }
   ],
   "source": [
    "# Accuracy / MLP\n",
    "comparisions = np.array(y_hat == y_test)\n",
    "comparisions.mean()"
   ]
  },
  {
   "cell_type": "code",
   "execution_count": 101,
   "metadata": {
    "collapsed": false,
    "scrolled": true
   },
   "outputs": [
    {
     "data": {
      "text/plain": [
       "<matplotlib.axes._subplots.AxesSubplot at 0x7fef902dd7f0>"
      ]
     },
     "execution_count": 101,
     "metadata": {
     },
     "output_type": "execute_result"
    },
    {
     "data": {
      "image/png": "[encoded data removed]",
      "text/plain": [
       "<Figure size 864x504 with 2 Axes>"
      ]
     },
     "execution_count": 101,
     "metadata": {
      "image/png": {
       "height": 411,
       "width": 638
      },
      "needs_background": "light"
     },
     "output_type": "execute_result"
    }
   ],
   "source": [
    "#Confusion matrix\n",
    "sns.heatmap(confusion_matrix(y_test, y_hat), annot=True, fmt='g')"
   ]
  },
  {
   "cell_type": "code",
   "execution_count": 156,
   "metadata": {
    "collapsed": false
   },
   "outputs": [
   ],
   "source": [
    "# Support Vector Machine Classification\n",
    "from sklearn.svm import SVC\n",
    "from sklearn import svm\n",
    "milk_SVM = svm.SVC(C= 1.3, degree= 1, kernel= 'linear')\n",
    "milk_SVM.fit(x_train, y_train)\n",
    "y_hat = milk_SVM.predict(x_test)"
   ]
  },
  {
   "cell_type": "code",
   "execution_count": 149,
   "metadata": {
    "collapsed": false
   },
   "outputs": [
   ],
   "source": [
    "from sklearn.model_selection import GridSearchCV\n",
    "#parameters = {\n",
    "    \"C\": [0.5, 0.7, 0.9, 1.1, 1.3],\n",
    "    \"degree\": [1, 2, 4, 10, 12],\n",
    "    \"kernel\": [\"linear\", \"sigmoid\", \"poly\"]\n",
    "}\n",
    "\n",
    "#optimizer = GridSearchCV(SVC(), param_grid = parameters, verbose = 2)\n",
    "#optimizer.fit(x_train, y_train)"
   ]
  },
  {
   "cell_type": "code",
   "execution_count": 154,
   "metadata": {
    "collapsed": false
   },
   "outputs": [
    {
     "data": {
      "text/plain": [
       "{'C': 1.3, 'degree': 1, 'kernel': 'linear'}"
      ]
     },
     "execution_count": 154,
     "metadata": {
     },
     "output_type": "execute_result"
    }
   ],
   "source": [
    "optimizer.best_params_"
   ]
  },
  {
   "cell_type": "code",
   "execution_count": 157,
   "metadata": {
    "collapsed": false
   },
   "outputs": [
    {
     "data": {
      "text/plain": [
       "0.8632075471698113"
      ]
     },
     "execution_count": 157,
     "metadata": {
     },
     "output_type": "execute_result"
    }
   ],
   "source": [
    "# Accuracy / SVM\n",
    "comparisons = np.array(y_hat == y_test)\n",
    "comparisons.mean()"
   ]
  },
  {
   "cell_type": "code",
   "execution_count": 158,
   "metadata": {
    "collapsed": false,
    "scrolled": true
   },
   "outputs": [
    {
     "data": {
      "text/plain": [
       "<matplotlib.axes._subplots.AxesSubplot at 0x7fef8f8de340>"
      ]
     },
     "execution_count": 158,
     "metadata": {
     },
     "output_type": "execute_result"
    },
    {
     "data": {
      "image/png": "[encoded data removed]",
      "text/plain": [
       "<Figure size 864x504 with 2 Axes>"
      ]
     },
     "execution_count": 158,
     "metadata": {
      "image/png": {
       "height": 411,
       "width": 638
      },
      "needs_background": "light"
     },
     "output_type": "execute_result"
    }
   ],
   "source": [
    "# Confusion Matrix / SVM\n",
    "sns.heatmap(confusion_matrix(y_test, y_hat), annot=True, fmt='g')"
   ]
  },
  {
   "cell_type": "code",
   "execution_count": 131,
   "metadata": {
    "collapsed": false
   },
   "outputs": [
   ],
   "source": [
    "from sklearn.neural_network import MLPClassifier\n",
    "milk_mlp = MLPClassifier()\n",
    "milk_mlp.fit(x_train, y_train)\n",
    "y_hat = milk_mlp.predict(x_test)"
   ]
  },
  {
   "cell_type": "code",
   "execution_count": 0,
   "metadata": {
    "collapsed": false
   },
   "outputs": [
   ],
   "source": [
    "# Accuracy / MLP\n",
    "comparisons = np.array(y_hat == y_test)\n",
    "comparisons.mean()"
   ]
  },
  {
   "cell_type": "code",
   "execution_count": 0,
   "metadata": {
    "collapsed": false
   },
   "outputs": [
   ],
   "source": [
    "# Confusion Matrix / MLP\n",
    "sns.heatmap(confusion_matrix(y_test, y_hat), annot=True, fmt='g')"
   ]
  },
  {
   "cell_type": "code",
   "execution_count": 127,
   "metadata": {
    "collapsed": false
   },
   "outputs": [
   ],
   "source": [
    "# SGD Classifier\n",
    "from sklearn.linear_model import SGDClassifier\n",
    "milk_SGD = SGDClassifier(loss=\"hinge\", penalty=\"l2\", max_iter=500)\n",
    "milk_SGD.fit(x_train, y_train)\n",
    "y_hat = milk_SGD.predict(x_test)"
   ]
  },
  {
   "cell_type": "code",
   "execution_count": 128,
   "metadata": {
    "collapsed": false
   },
   "outputs": [
    {
     "data": {
      "text/plain": [
       "0.5330188679245284"
      ]
     },
     "execution_count": 128,
     "metadata": {
     },
     "output_type": "execute_result"
    }
   ],
   "source": [
    "# Accuracy / SGD\n",
    "comparisons = np.array(y_hat == y_test)\n",
    "comparisons.mean()"
   ]
  },
  {
   "cell_type": "code",
   "execution_count": 135,
   "metadata": {
    "collapsed": false
   },
   "outputs": [
    {
     "data": {
      "text/plain": [
       "0.7877358490566038"
      ]
     },
     "execution_count": 135,
     "metadata": {
     },
     "output_type": "execute_result"
    }
   ],
   "source": [
    "# Accuracy Score / SGD\n",
    "from sklearn.metrics import accuracy_score\n",
    "y_pred = y_hat\n",
    "y_true = y_test\n",
    "accuracy_score(y_true, y_pred)\n"
   ]
  },
  {
   "cell_type": "code",
   "execution_count": 143,
   "metadata": {
    "collapsed": false
   },
   "outputs": [
    {
     "data": {
      "text/plain": [
       "0.7877358490566037"
      ]
     },
     "execution_count": 143,
     "metadata": {
     },
     "output_type": "execute_result"
    }
   ],
   "source": [
    "#F1 Score / SGD\n",
    "from sklearn.metrics import f1_score\n",
    "y_pred = y_hat\n",
    "y_true = y_test\n",
    "#f1_score(y_true, y_pred, average='macro')\n",
    "f1_score(y_true, y_pred, average='micro')\n",
    "#f1_score(y_true, y_pred, average='weighted')\n"
   ]
  },
  {
   "cell_type": "code",
   "execution_count": 116,
   "metadata": {
    "collapsed": false
   },
   "outputs": [
    {
     "data": {
      "text/plain": [
       "<matplotlib.axes._subplots.AxesSubplot at 0x7fef8fbfbdf0>"
      ]
     },
     "execution_count": 116,
     "metadata": {
     },
     "output_type": "execute_result"
    },
    {
     "data": {
      "image/png": "[encoded data removed]",
      "text/plain": [
       "<Figure size 864x504 with 2 Axes>"
      ]
     },
     "execution_count": 116,
     "metadata": {
      "image/png": {
       "height": 411,
       "width": 638
      },
      "needs_background": "light"
     },
     "output_type": "execute_result"
    }
   ],
   "source": [
    "# Confusion Matrix / SGD\n",
    "sns.heatmap(confusion_matrix(y_test, y_hat), annot=True, fmt='g')"
   ]
  },
  {
   "cell_type": "code",
   "execution_count": 111,
   "metadata": {
    "collapsed": false
   },
   "outputs": [
   ],
   "source": [
    "# Decision Tree Classification\n",
    "from sklearn import tree\n",
    "milk_tree = tree.DecisionTreeClassifier()\n",
    "milk_tree.fit(x_train, y_train)\n",
    "y_hat = milk_tree.predict(x_test)"
   ]
  },
  {
   "cell_type": "code",
   "execution_count": 112,
   "metadata": {
    "collapsed": false
   },
   "outputs": [
    {
     "data": {
      "text/plain": [
       "0.9952830188679245"
      ]
     },
     "execution_count": 112,
     "metadata": {
     },
     "output_type": "execute_result"
    }
   ],
   "source": [
    "# Accuracy / Decision Tree\n",
    "comparisons = np.array(y_hat == y_test)\n",
    "comparisons.mean()"
   ]
  },
  {
   "cell_type": "code",
   "execution_count": 113,
   "metadata": {
    "collapsed": false
   },
   "outputs": [
    {
     "data": {
      "text/plain": [
       "<matplotlib.axes._subplots.AxesSubplot at 0x7fef8fc8bdc0>"
      ]
     },
     "execution_count": 113,
     "metadata": {
     },
     "output_type": "execute_result"
    },
    {
     "data": {
      "image/png": "[encoded data removed]",
      "text/plain": [
       "<Figure size 864x504 with 2 Axes>"
      ]
     },
     "execution_count": 113,
     "metadata": {
      "image/png": {
       "height": 411,
       "width": 638
      },
      "needs_background": "light"
     },
     "output_type": "execute_result"
    }
   ],
   "source": [
    "# Confusion Matrix / Decision Tree\n",
    "sns.heatmap(confusion_matrix(y_test, y_hat), annot=True, fmt='g')"
   ]
  },
  {
   "cell_type": "code",
   "execution_count": 144,
   "metadata": {
    "collapsed": false
   },
   "outputs": [
   ],
   "source": [
    "# Gaussian Naive Bayes Classification\n",
    "from sklearn.naive_bayes import GaussianNB\n",
    "milk_GNB = GaussianNB()\n",
    "milk_GNB.fit(x_train, y_train)\n",
    "y_hat = milk_GNB.predict(x_test)"
   ]
  },
  {
   "cell_type": "code",
   "execution_count": 145,
   "metadata": {
    "collapsed": false
   },
   "outputs": [
    {
     "data": {
      "text/plain": [
       "0.9339622641509434"
      ]
     },
     "execution_count": 145,
     "metadata": {
     },
     "output_type": "execute_result"
    }
   ],
   "source": [
    "# Accuracy / GNB\n",
    "comparisons = np.array(y_hat == y_test)\n",
    "comparisons.mean()"
   ]
  },
  {
   "cell_type": "code",
   "execution_count": 146,
   "metadata": {
    "collapsed": false
   },
   "outputs": [
    {
     "data": {
      "text/plain": [
       "<matplotlib.axes._subplots.AxesSubplot at 0x7fef8fb3a2b0>"
      ]
     },
     "execution_count": 146,
     "metadata": {
     },
     "output_type": "execute_result"
    },
    {
     "data": {
      "image/png": "[encoded data removed]",
      "text/plain": [
       "<Figure size 864x504 with 2 Axes>"
      ]
     },
     "execution_count": 146,
     "metadata": {
      "image/png": {
       "height": 411,
       "width": 638
      },
      "needs_background": "light"
     },
     "output_type": "execute_result"
    }
   ],
   "source": [
    "# Confusion Matrix / GNB\n",
    "sns.heatmap(confusion_matrix(y_test, y_hat), annot=True, fmt='g')"
   ]
  },
  {
   "cell_type": "code",
   "execution_count": 0,
   "metadata": {
    "collapsed": false
   },
   "outputs": [
   ],
   "source": [
    "#Gaussian Process Kernel\n",
    "from sklearn.gaussian_process.kernels import ConstantKernel\n",
    "milk_CK = ConstantKernel()\n",
    "milk_CK.fit(x_train, y_train)\n",
    "y_hat = milk_CK.predict(x_test)"
   ]
  },
  {
   "cell_type": "code",
   "execution_count": 147,
   "metadata": {
    "collapsed": false
   },
   "outputs": [
    {
     "data": {
      "text/plain": [
       "0.9339622641509434"
      ]
     },
     "execution_count": 147,
     "metadata": {
     },
     "output_type": "execute_result"
    }
   ],
   "source": [
    "#Accuracy / GPK\n",
    "comparisons = np.array(y_hat == y_test)\n",
    "comparisons.mean()"
   ]
  },
  {
   "cell_type": "code",
   "execution_count": 148,
   "metadata": {
    "collapsed": false
   },
   "outputs": [
    {
     "data": {
      "text/plain": [
       "<matplotlib.axes._subplots.AxesSubplot at 0x7fef8f9623a0>"
      ]
     },
     "execution_count": 148,
     "metadata": {
     },
     "output_type": "execute_result"
    },
    {
     "data": {
      "image/png": "[encoded data removed]",
      "text/plain": [
       "<Figure size 864x504 with 2 Axes>"
      ]
     },
     "execution_count": 148,
     "metadata": {
      "image/png": {
       "height": 411,
       "width": 638
      },
      "needs_background": "light"
     },
     "output_type": "execute_result"
    }
   ],
   "source": [
    "#Confusion Chart / GPK\n",
    "sns.heatmap(confusion_matrix(y_test, y_hat), annot=True, fmt='g')"
   ]
  },
  {
   "cell_type": "code",
   "execution_count": 0,
   "metadata": {
    "collapsed": false
   },
   "outputs": [
   ],
   "source": [
    "#"
   ]
  }
 ],
 "metadata": {
  "kernelspec": {
   "display_name": "Python 3 (Ubuntu Linux)",
   "language": "python",
   "name": "python3-ubuntu",
   "resource_dir": "/usr/local/share/jupyter/kernels/python3-ubuntu"
  },
  "language_info": {
   "codemirror_mode": {
    "name": "ipython",
    "version": 3
   },
   "file_extension": ".py",
   "mimetype": "text/x-python",
   "name": "python",
   "nbconvert_exporter": "python",
   "pygments_lexer": "ipython3",
   "version": "3.8.10"
  }
 },
 "nbformat": 4,
 "nbformat_minor": 4
}